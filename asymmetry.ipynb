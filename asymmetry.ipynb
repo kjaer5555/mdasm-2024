{
 "cells": [
  {
   "cell_type": "code",
   "execution_count": 78,
   "id": "ba386689-085b-431d-a790-59944d0dd9e4",
   "metadata": {},
   "outputs": [],
   "source": [
    "import numpy as np\n",
    "import matplotlib.pyplot as plt\n",
    "from skimage.transform import resize, rotate\n",
    "import math"
   ]
  },
  {
   "cell_type": "code",
   "execution_count": 3,
   "id": "18fd6393-ca80-4b6f-a0ea-54d85f4c1228",
   "metadata": {},
   "outputs": [],
   "source": [
    "images_path = \"./pictures/\"\n",
    "masks_path = \"./groupR_masks/\"\n",
    "path = \"131_197_260\"\n",
    "\n",
    "def prepare_im(im_id):\n",
    "    prefix = 'PAT'\n",
    "    extension = \".png\"\n",
    "    im = plt.imread(f\"{images_path}{prefix}_{im_id}{extension}\")\n",
    "    im = resize(im, (im.shape[0] // 4, im.shape[1] // 4), anti_aliasing=True)\n",
    "    \n",
    "    gt = im = plt.imread(f\"{masks_path}{prefix}_{im_id}_mask{extension}\")\n",
    "    gt = resize(gt, (gt.shape[0] // 4, gt.shape[1] // 4), anti_aliasing=False) #Setting it to True creates values that are not 0 or 1\n",
    "    \n",
    "    return im, gt\n",
    "\n",
    "im, gt = prepare_im(path)"
   ]
  },
  {
   "cell_type": "code",
   "execution_count": 4,
   "id": "446a7d0b-10cc-4a84-97b8-31607a6770ba",
   "metadata": {
    "collapsed": true,
    "jupyter": {
     "outputs_hidden": true
    }
   },
   "outputs": [
    {
     "data": {
      "text/plain": [
       "<matplotlib.image.AxesImage at 0x228250c17c0>"
      ]
     },
     "execution_count": 4,
     "metadata": {},
     "output_type": "execute_result"
    },
    {
     "data": {
      "image/png": "[encoded data removed]",
      "text/plain": [
       "<Figure size 640x480 with 1 Axes>"
      ]
     },
     "metadata": {},
     "output_type": "display_data"
    }
   ],
   "source": [
    "plt.imshow(gt, cmap=\"gray\")"
   ]
  },
  {
   "cell_type": "code",
   "execution_count": 76,
   "id": "923c3204-ea9c-4e1f-89bb-607c21e190a2",
   "metadata": {},
   "outputs": [
    {
     "data": {
      "text/plain": [
       "10"
      ]
     },
     "execution_count": 76,
     "metadata": {},
     "output_type": "execute_result"
    }
   ],
   "source": [
    "180%17"
   ]
  },
  {
   "cell_type": "code",
   "execution_count": 89,
   "id": "bdc3c3d3-0ceb-493a-84d5-e218f3e2061c",
   "metadata": {},
   "outputs": [
    {
     "data": {
      "text/plain": [
       "[0, 59, 118, 177]"
      ]
     },
     "execution_count": 89,
     "metadata": {},
     "output_type": "execute_result"
    }
   ],
   "source": [
    "180/59\n",
    "list(range(0,180,59))"
   ]
  },
  {
   "cell_type": "code",
   "execution_count": 153,
   "id": "943492ab-5f79-4c7a-bf18-95cf5030d445",
   "metadata": {
    "jp-MarkdownHeadingCollapsed": true
   },
   "outputs": [],
   "source": [
    "def get_cropped(img, padding=0):\n",
    "    \"\"\"Crops the image to bounding boxes with given padding\"\"\"\n",
    "    cords = np.where(img!=0)\n",
    "    x1, y1 = min(cords[0]), max(cords[1])\n",
    "    x2, y2 = max(cords[0]), min(cords[1])\n",
    "    cr = img[x1-padding:x2+padding, y2-padding:y1+padding]\n",
    "    return cr\n",
    "\n",
    "def flip(img):\n",
    "    return img[:,::-1]"
   ]
  },
  {
   "cell_type": "code",
   "execution_count": 205,
   "id": "57c7b684-a3a1-458e-8020-a69b006434c2",
   "metadata": {
    "jp-MarkdownHeadingCollapsed": true
   },
   "outputs": [
    {
     "data": {
      "text/plain": [
       "0.870248042469451"
      ]
     },
     "execution_count": 205,
     "metadata": {},
     "output_type": "execute_result"
    }
   ],
   "source": [
    "def asymmetry_score_fully_rotated(img, n_steps: int = 10):\n",
    "    \"\"\"Rotates images step times around axis, and computes overlapping percentage\n",
    "    Best score: 1, worst score: 0. Insert cropped image\"\"\"\n",
    "    if (n_steps <  1 or n_steps > 180):\n",
    "        raise Exception('Amount of steps of range [1, 180]')\n",
    "\n",
    "    img = get_cropped(img)\n",
    "    sum_of_overlapping_areas = 0\n",
    "    total_area = np.sum(img)*n_steps\n",
    "    step_size = math.ceil(180 / n_steps)\n",
    "    \n",
    "    for angle in range(0, 180, step_size):\n",
    "        \n",
    "        rotated_mask = rotate(img, angle, resize=True)\n",
    "        # There is no need to crop the image to boundary boxes, \n",
    "        # because the center remains in the middle.\n",
    "        middle_column = rotated_mask.shape[1] // 2\n",
    "        left_half = rotated_mask[:, :middle_column]\n",
    "        flipped_right_half = flip(rotated_mask[:, -middle_column:])\n",
    "        \n",
    "        overlap = left_half * flipped_right_half\n",
    "        \n",
    "        overlapping_area = np.sum(overlap)\n",
    "        sum_of_overlapping_areas += overlapping_area\n",
    "        \n",
    "    score = (2*sum_of_overlapping_areas / total_area) # need to account for both halves\n",
    "    return score\n",
    "asymmetry_score_fully_rotated(gt, 180)"
   ]
  },
  {
   "cell_type": "code",
   "execution_count": 204,
   "id": "a0ff8a8e-3043-4e98-b135-1d753fe5f70f",
   "metadata": {},
   "outputs": [
    {
     "data": {
      "text/plain": [
       "0.9400886730363905"
      ]
     },
     "execution_count": 204,
     "metadata": {},
     "output_type": "execute_result"
    }
   ],
   "source": [
    "def asymmetry_score_one_max_rotated(img):\n",
    "    \"\"\"Returns maximum overlap for any possible axis.\n",
    "    Best score: 1, worst score: 0.\"\"\"\n",
    "\n",
    "    img = get_cropped(img)\n",
    "    max_overlapping_area = 0\n",
    "    total_area = np.sum(img)\n",
    "    step_size = 1\n",
    "    \n",
    "    for angle in range(0, 180, step_size):\n",
    "        \n",
    "        rotated_mask = rotate(img, angle, resize=True)\n",
    "        # There is no need to crop the image to boundary boxes, \n",
    "        # because the center remains in the middle.\n",
    "        middle_column = rotated_mask.shape[1] // 2\n",
    "        left_half = rotated_mask[:, :middle_column]\n",
    "        flipped_right_half = flip(rotated_mask[:, -middle_column:])\n",
    "        \n",
    "        overlap = left_half * flipped_right_half\n",
    "        \n",
    "        overlapping_area = np.sum(overlap)\n",
    "        if (overlapping_area > max_overlapping_area):\n",
    "            max_overlapping_area = overlapping_area\n",
    "        \n",
    "    score = (2*max_overlapping_area / total_area) # need to account for both halves\n",
    "    return score\n",
    "asymmetry_score_one_max_rotated(gt)"
   ]
  },
  {
   "cell_type": "code",
   "execution_count": 210,
   "id": "4a02c667-8564-4cf6-8dea-5b66ff1bf623",
   "metadata": {},
   "outputs": [
    {
     "data": {
      "text/plain": [
       "0.8286755"
      ]
     },
     "execution_count": 210,
     "metadata": {},
     "output_type": "execute_result"
    }
   ],
   "source": [
    "def asymmetry_score_major_minor_overlap(img):\n",
    "    \"\"\"Finds the axis yielding highest overlap and treats it as major axis. Return summed percentage overlap of minor and major\n",
    "    axes.\n",
    "    Best score: 1, worst score: 0\"\"\"\n",
    "\n",
    "    img = get_cropped(img)\n",
    "    major_max_overlapping_area = 0\n",
    "    minor_overlapping_area = 0\n",
    "    total_area = np.sum(img)\n",
    "    step_size = 1\n",
    "    \n",
    "    for angle in range(0, 180, step_size):\n",
    "        \n",
    "        rotated_mask = rotate(img, angle, resize=True)\n",
    "        # There is no need to crop the image to boundary boxes, \n",
    "        # because the center remains in the middle.\n",
    "        middle_column = rotated_mask.shape[1] // 2\n",
    "        left_half = rotated_mask[:, :middle_column]\n",
    "        flipped_right_half = flip(rotated_mask[:, -middle_column:])\n",
    "        \n",
    "        major_overlap = left_half * flipped_right_half\n",
    "\n",
    "        major_overlapping_area = np.sum(major_overlap)\n",
    "        if (major_overlapping_area > major_max_overlapping_area):\n",
    "            major_max_overlapping_area = major_overlapping_area\n",
    "            \n",
    "            middle_row = rotated_mask.shape[0] // 2\n",
    "            \n",
    "            top_half = rotated_mask[:middle_row, :]\n",
    "            flipped_bottom_half = flip(rotated_mask[-middle_row:, :])\n",
    "            \n",
    "            minor_overlap = top_half * flipped_bottom_half\n",
    "            minor_overlapping_area = np.sum(minor_overlap)\n",
    "        \n",
    "    score = ((major_max_overlapping_area+minor_overlapping_area) / total_area) # need to account for both halves\n",
    "    return score\n",
    "asymmetry_score_major_minor_overlap(gt)"
   ]
  },
  {
   "cell_type": "code",
   "execution_count": 223,
   "id": "8e9b7176-d051-4751-9777-5eabf90051d9",
   "metadata": {},
   "outputs": [
    {
     "data": {
      "text/plain": [
       "(1, 8)"
      ]
     },
     "execution_count": 223,
     "metadata": {},
     "output_type": "execute_result"
    }
   ],
   "source": [
    "min((1,8), (10, 9))"
   ]
  },
  {
   "cell_type": "code",
   "execution_count": 211,
   "id": "9746f7c2-0809-4a0d-becf-767d03f9971b",
   "metadata": {},
   "outputs": [
    {
     "data": {
      "text/plain": [
       "0.8286755"
      ]
     },
     "execution_count": 211,
     "metadata": {},
     "output_type": "execute_result"
    }
   ],
   "source": [
    "def asymmetry_classic(img):\n",
    "    \"\"\" Finds major axis using minimum bounding box methods and return combined overlap percentage\"\"\"\n",
    "    img = get_cropped(img, padding=0)\n",
    "    # Lexographic order\n",
    "\n",
    "    \n",
    "    step_size = 1\n",
    "    min_bounding_box = None\n",
    "    min_bounding_box_size = np.sum(img)\n",
    "    \n",
    "    \n",
    "    for angle in range(0, 180, step_size):\n",
    "        \n",
    "        rotated_mask = rotate(img, angle, resize=True)\n",
    "        bounding_box = get_cropped(rotated_mask, padding=0)\n",
    "        bounding_box_size = np.sum(bounding_box)\n",
    "        if(min_bounding_box_size > bounding_box_size):\n",
    "            min_bounding_box = bounding_box\n",
    "    # Follow alongside major axis\n",
    "\n",
    "    if(\n",
    "    \n",
    "        \n",
    "        # There is no need to crop the image to boundary boxes, \n",
    "        # because the center remains in the middle.\n",
    "        middle_column = rotated_mask.shape[1] // 2\n",
    "        left_half = rotated_mask[:, :middle_column]\n",
    "        flipped_right_half = flip(rotated_mask[:, -middle_column:])\n",
    "        \n",
    "        major_overlap = left_half * flipped_right_half\n",
    "\n",
    "        major_overlapping_area = np.sum(major_overlap)\n",
    "        if (major_overlapping_area > major_max_overlapping_area):\n",
    "            major_max_overlapping_area = major_overlapping_area\n",
    "            \n",
    "            middle_row = rotated_mask.shape[0] // 2\n",
    "            \n",
    "            top_half = rotated_mask[:middle_row, :]\n",
    "            flipped_bottom_half = flip(rotated_mask[-middle_row:, :])\n",
    "            \n",
    "            minor_overlap = top_half * flipped_bottom_half\n",
    "            minor_overlapping_area = np.sum(minor_overlap)\n",
    "        \n",
    "    score = ((major_max_overlapping_area+minor_overlapping_area) / total_area) # need to account for both halves\n",
    "    return score\n",
    "asymmetry_class(gt)"
   ]
  },
  {
   "cell_type": "code",
   "execution_count": null,
   "id": "5d53daee-b1c8-448b-a33c-b719551c189e",
   "metadata": {},
   "outputs": [],
   "source": [
    "def asymmetry_4_fold(img):\n",
    "    "
   ]
  },
  {
   "cell_type": "code",
   "execution_count": null,
   "id": "d8ba9479-99a1-41f3-98ce-83e4cadb922f",
   "metadata": {},
   "outputs": [],
   "source": [
    "def asymmetry_class_major_minor(img):\n",
    "    "
   ]
  },
  {
   "cell_type": "code",
   "execution_count": null,
   "id": "6a03246d-7f5a-4f9d-b2f0-bf0dac942cdc",
   "metadata": {},
   "outputs": [],
   "source": [
    "def asymmetry_score_max_rotated(img):\n",
    "    \"\"\"Rotates images 180 times around axis, and computes percentage for the maximum overlap axis\n",
    "    Best score: 1, worst score: 0. Insert cropped image\"\"\"\n",
    "    n_steps = 180\n",
    "    img = get_cropped(img)\n",
    "    min_nonoverlapping_area = np.sum(img) # This is possible max\n",
    "    total_area = np.sum(img)\n",
    "    step_size = 1\n",
    "    \n",
    "    for angle in range(0, 180, step_size):\n",
    "        \n",
    "        rotated_mask = rotate(img, angle, resize=True)\n",
    "        # There is no need to crop the image to boundary boxes, \n",
    "        # because the center remains in the middle.\n",
    "        middle_column = rotated_mask.shape[1] // 2\n",
    "        left_half = rotated_mask[:, :middle_column]\n",
    "        flipped_right_half = flip(rotated_mask[:, -middle_column:])\n",
    "        \n",
    "        overlapping_area = left_half * flipped_right_half\n",
    "        # (left_half - rotated_area) + (flipped_right_half - rotated_area)\n",
    "        nonoverlapping_area = np.sum(left_half)+np.sum(flipped_right_half)-2*np.sum(overlapping_area)\n",
    "        if (min_nonoverlapping_area > nonoverlapping_area):\n",
    "            min_nonoverlapping_area = nonoverlapping_area\n",
    "        \n",
    "    score = 1 - (sum_of_nonoverlapping_areas / total_area)\n",
    "    return score"
   ]
  },
  {
   "cell_type": "code",
   "execution_count": 19,
   "id": "fb09e220-d85a-4ff1-a7a8-93168973393d",
   "metadata": {},
   "outputs": [
    {
     "data": {
      "text/plain": [
       "<matplotlib.image.AxesImage at 0x22826dad9d0>"
      ]
     },
     "execution_count": 19,
     "metadata": {},
     "output_type": "execute_result"
    },
    {
     "data": {
      "image/png": "[encoded data removed]",
      "text/plain": [
       "<Figure size 640x480 with 1 Axes>"
      ]
     },
     "metadata": {},
     "output_type": "display_data"
    }
   ],
   "source": [
    "cr = get_cropped(gt)\n",
    "\n",
    "plt.imshow(cr)"
   ]
  },
  {
   "cell_type": "code",
   "execution_count": 124,
   "id": "eab830c1-299d-4891-9ed6-fd54580b1fc0",
   "metadata": {},
   "outputs": [
    {
     "data": {
      "text/plain": [
       "0.9338123206136268"
      ]
     },
     "execution_count": 124,
     "metadata": {},
     "output_type": "execute_result"
    }
   ],
   "source": []
  },
  {
   "cell_type": "code",
   "execution_count": null,
   "id": "c833f1e8-8747-4019-b0ea-b8438f71b5c7",
   "metadata": {},
   "outputs": [],
   "source": [
    "asymmetry_score(cr,1)"
   ]
  },
  {
   "cell_type": "markdown",
   "id": "3826b88d-6b45-4536-b319-4e8dd752658c",
   "metadata": {},
   "source": [
    "# WOrkshop below - no important. Above is ready code."
   ]
  },
  {
   "cell_type": "code",
   "execution_count": 33,
   "id": "9ae521d5-f329-4c21-9ba3-b1d9806b6be1",
   "metadata": {},
   "outputs": [
    {
     "data": {
      "text/plain": [
       "<matplotlib.image.AxesImage at 0x2282548f400>"
      ]
     },
     "execution_count": 33,
     "metadata": {},
     "output_type": "execute_result"
    },
    {
     "data": {
      "image/png": "[encoded data removed]",
      "text/plain": [
       "<Figure size 640x480 with 1 Axes>"
      ]
     },
     "metadata": {},
     "output_type": "display_data"
    }
   ],
   "source": [
    "img = cr\n",
    "angle = 0\n",
    "rotated_mask = rotate(img, angle, True)\n",
    "# There is no need to crop the image to boundary boxes, \n",
    "# because the center remains in the middle\n",
    "# but we are doing it, because I think it should speed up the process.\n",
    "middle_column = rotated_mask.shape[1] // 2\n",
    "left_half = rotated_mask[:, :middle_column]\n",
    "flipped_right_half = flip(rotated_mask[:, -middle_column:])\n",
    "overlap = left_half * flipped_right_half\n",
    "# (left_half - rotated_area) + (flipped_right_half - rotated_area)\n",
    "nonoverlapping_area = np.sum(left_half)+np.sum(flipped_right_half)-2*np.sum(overlap)\n",
    "#sum_of_nonoverlapping_areas += nonoverlapping_area\n",
    "\n",
    "plt.imshow(rotated_mask)"
   ]
  },
  {
   "cell_type": "code",
   "execution_count": null,
   "id": "2b7ce1a9-fd07-40f9-988f-d1909beef17b",
   "metadata": {},
   "outputs": [],
   "source": [
    "plt.imshow(flipped_right_half - overlap)"
   ]
  },
  {
   "cell_type": "code",
   "execution_count": null,
   "id": "b93a29bf-9862-4925-be1f-789b3f215ae3",
   "metadata": {},
   "outputs": [],
   "source": [
    "plt.imshow(flipped_right_half-overlap)"
   ]
  }
 ],
 "metadata": {
  "kernelspec": {
   "display_name": "Python 3 (ipykernel)",
   "language": "python",
   "name": "python3"
  },
  "language_info": {
   "codemirror_mode": {
    "name": "ipython",
    "version": 3
   },
   "file_extension": ".py",
   "mimetype": "text/x-python",
   "name": "python",
   "nbconvert_exporter": "python",
   "pygments_lexer": "ipython3",
   "version": "3.8.17"
  }
 },
 "nbformat": 4,
 "nbformat_minor": 5
}
